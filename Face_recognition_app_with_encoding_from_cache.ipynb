{
  "cells": [
    {
      "cell_type": "markdown",
      "metadata": {
        "id": "view-in-github",
        "colab_type": "text"
      },
      "source": [
        "<a href=\"https://colab.research.google.com/github/WafaSanaa/Real-time-object-detection-avec-Yolo-X/blob/main/Face_recognition_app_with_encoding_from_cache.ipynb\" target=\"_parent\"><img src=\"https://colab.research.google.com/assets/colab-badge.svg\" alt=\"Open In Colab\"/></a>"
      ]
    },
    {
      "cell_type": "markdown",
      "id": "162f6a1a",
      "metadata": {
        "id": "162f6a1a"
      },
      "source": [
        "# Installation des librairies python"
      ]
    },
    {
      "cell_type": "code",
      "execution_count": null,
      "id": "7ea090d5",
      "metadata": {
        "colab": {
          "base_uri": "https://localhost:8080/"
        },
        "id": "7ea090d5",
        "outputId": "ed58b8ca-2888-4325-f43a-a3766b976b39"
      },
      "outputs": [
        {
          "name": "stdout",
          "output_type": "stream",
          "text": [
            "Requirement already satisfied: opencv-python in /usr/local/lib/python3.11/dist-packages (4.11.0.86)\n",
            "Requirement already satisfied: numpy>=1.21.2 in /usr/local/lib/python3.11/dist-packages (from opencv-python) (2.0.2)\n"
          ]
        }
      ],
      "source": [
        "pip install opencv-python\n"
      ]
    },
    {
      "cell_type": "code",
      "execution_count": null,
      "id": "4a1f1505",
      "metadata": {
        "colab": {
          "base_uri": "https://localhost:8080/"
        },
        "id": "4a1f1505",
        "outputId": "2a810422-cb3b-42d6-aa11-273330114ec3"
      },
      "outputs": [
        {
          "name": "stdout",
          "output_type": "stream",
          "text": [
            "Requirement already satisfied: cmake in /usr/local/lib/python3.11/dist-packages (3.31.6)\n"
          ]
        }
      ],
      "source": [
        "pip install cmake\n"
      ]
    },
    {
      "cell_type": "code",
      "execution_count": null,
      "id": "eb34990e",
      "metadata": {
        "colab": {
          "base_uri": "https://localhost:8080/"
        },
        "id": "eb34990e",
        "outputId": "b6400792-bae1-4f2c-cbee-25fc55f55c07"
      },
      "outputs": [
        {
          "name": "stdout",
          "output_type": "stream",
          "text": [
            "Collecting dlib\n",
            "  Downloading dlib-19.24.9.tar.gz (3.4 MB)\n",
            "\u001b[2K     \u001b[90m━━━━━━━━━━━━━━━━━━━━━━━━━━━━━━━━━━━━━━━━\u001b[0m \u001b[32m3.4/3.4 MB\u001b[0m \u001b[31m23.9 MB/s\u001b[0m eta \u001b[36m0:00:00\u001b[0m\n",
            "\u001b[?25h  Preparing metadata (setup.py) ... \u001b[?25l\u001b[?25hdone\n",
            "Building wheels for collected packages: dlib\n",
            "  Building wheel for dlib (setup.py) ... \u001b[?25l\u001b[?25hcanceled\n",
            "\u001b[31mERROR: Operation cancelled by user\u001b[0m\u001b[31m\n",
            "\u001b[0m"
          ]
        }
      ],
      "source": [
        "pip install dlib"
      ]
    },
    {
      "cell_type": "code",
      "execution_count": null,
      "id": "703991a7",
      "metadata": {
        "colab": {
          "base_uri": "https://localhost:8080/"
        },
        "id": "703991a7",
        "outputId": "1291f87b-0f38-439a-a150-af236e0208ab"
      },
      "outputs": [
        {
          "name": "stdout",
          "output_type": "stream",
          "text": [
            "Requirement already satisfied: tensorflow in /usr/local/lib/python3.11/dist-packages (2.18.0)\n",
            "Requirement already satisfied: absl-py>=1.0.0 in /usr/local/lib/python3.11/dist-packages (from tensorflow) (1.4.0)\n",
            "Requirement already satisfied: astunparse>=1.6.0 in /usr/local/lib/python3.11/dist-packages (from tensorflow) (1.6.3)\n",
            "Requirement already satisfied: flatbuffers>=24.3.25 in /usr/local/lib/python3.11/dist-packages (from tensorflow) (25.2.10)\n",
            "Requirement already satisfied: gast!=0.5.0,!=0.5.1,!=0.5.2,>=0.2.1 in /usr/local/lib/python3.11/dist-packages (from tensorflow) (0.6.0)\n",
            "Requirement already satisfied: google-pasta>=0.1.1 in /usr/local/lib/python3.11/dist-packages (from tensorflow) (0.2.0)\n",
            "Requirement already satisfied: libclang>=13.0.0 in /usr/local/lib/python3.11/dist-packages (from tensorflow) (18.1.1)\n",
            "Requirement already satisfied: opt-einsum>=2.3.2 in /usr/local/lib/python3.11/dist-packages (from tensorflow) (3.4.0)\n",
            "Requirement already satisfied: packaging in /usr/local/lib/python3.11/dist-packages (from tensorflow) (24.2)\n",
            "Requirement already satisfied: protobuf!=4.21.0,!=4.21.1,!=4.21.2,!=4.21.3,!=4.21.4,!=4.21.5,<6.0.0dev,>=3.20.3 in /usr/local/lib/python3.11/dist-packages (from tensorflow) (5.29.4)\n",
            "Requirement already satisfied: requests<3,>=2.21.0 in /usr/local/lib/python3.11/dist-packages (from tensorflow) (2.32.3)\n",
            "Requirement already satisfied: setuptools in /usr/local/lib/python3.11/dist-packages (from tensorflow) (75.2.0)\n",
            "Requirement already satisfied: six>=1.12.0 in /usr/local/lib/python3.11/dist-packages (from tensorflow) (1.17.0)\n",
            "Requirement already satisfied: termcolor>=1.1.0 in /usr/local/lib/python3.11/dist-packages (from tensorflow) (3.1.0)\n",
            "Requirement already satisfied: typing-extensions>=3.6.6 in /usr/local/lib/python3.11/dist-packages (from tensorflow) (4.13.2)\n",
            "Requirement already satisfied: wrapt>=1.11.0 in /usr/local/lib/python3.11/dist-packages (from tensorflow) (1.17.2)\n",
            "Requirement already satisfied: grpcio<2.0,>=1.24.3 in /usr/local/lib/python3.11/dist-packages (from tensorflow) (1.71.0)\n",
            "Requirement already satisfied: tensorboard<2.19,>=2.18 in /usr/local/lib/python3.11/dist-packages (from tensorflow) (2.18.0)\n",
            "Requirement already satisfied: keras>=3.5.0 in /usr/local/lib/python3.11/dist-packages (from tensorflow) (3.8.0)\n",
            "Requirement already satisfied: numpy<2.1.0,>=1.26.0 in /usr/local/lib/python3.11/dist-packages (from tensorflow) (2.0.2)\n",
            "Requirement already satisfied: h5py>=3.11.0 in /usr/local/lib/python3.11/dist-packages (from tensorflow) (3.13.0)\n",
            "Requirement already satisfied: ml-dtypes<0.5.0,>=0.4.0 in /usr/local/lib/python3.11/dist-packages (from tensorflow) (0.4.1)\n",
            "Requirement already satisfied: tensorflow-io-gcs-filesystem>=0.23.1 in /usr/local/lib/python3.11/dist-packages (from tensorflow) (0.37.1)\n",
            "Requirement already satisfied: wheel<1.0,>=0.23.0 in /usr/local/lib/python3.11/dist-packages (from astunparse>=1.6.0->tensorflow) (0.45.1)\n",
            "Requirement already satisfied: rich in /usr/local/lib/python3.11/dist-packages (from keras>=3.5.0->tensorflow) (13.9.4)\n",
            "Requirement already satisfied: namex in /usr/local/lib/python3.11/dist-packages (from keras>=3.5.0->tensorflow) (0.0.9)\n",
            "Requirement already satisfied: optree in /usr/local/lib/python3.11/dist-packages (from keras>=3.5.0->tensorflow) (0.15.0)\n",
            "Requirement already satisfied: charset-normalizer<4,>=2 in /usr/local/lib/python3.11/dist-packages (from requests<3,>=2.21.0->tensorflow) (3.4.2)\n",
            "Requirement already satisfied: idna<4,>=2.5 in /usr/local/lib/python3.11/dist-packages (from requests<3,>=2.21.0->tensorflow) (3.10)\n",
            "Requirement already satisfied: urllib3<3,>=1.21.1 in /usr/local/lib/python3.11/dist-packages (from requests<3,>=2.21.0->tensorflow) (2.4.0)\n",
            "Requirement already satisfied: certifi>=2017.4.17 in /usr/local/lib/python3.11/dist-packages (from requests<3,>=2.21.0->tensorflow) (2025.4.26)\n",
            "Requirement already satisfied: markdown>=2.6.8 in /usr/local/lib/python3.11/dist-packages (from tensorboard<2.19,>=2.18->tensorflow) (3.8)\n",
            "Requirement already satisfied: tensorboard-data-server<0.8.0,>=0.7.0 in /usr/local/lib/python3.11/dist-packages (from tensorboard<2.19,>=2.18->tensorflow) (0.7.2)\n",
            "Requirement already satisfied: werkzeug>=1.0.1 in /usr/local/lib/python3.11/dist-packages (from tensorboard<2.19,>=2.18->tensorflow) (3.1.3)\n",
            "Requirement already satisfied: MarkupSafe>=2.1.1 in /usr/local/lib/python3.11/dist-packages (from werkzeug>=1.0.1->tensorboard<2.19,>=2.18->tensorflow) (3.0.2)\n",
            "Requirement already satisfied: markdown-it-py>=2.2.0 in /usr/local/lib/python3.11/dist-packages (from rich->keras>=3.5.0->tensorflow) (3.0.0)\n",
            "Requirement already satisfied: pygments<3.0.0,>=2.13.0 in /usr/local/lib/python3.11/dist-packages (from rich->keras>=3.5.0->tensorflow) (2.19.1)\n",
            "Requirement already satisfied: mdurl~=0.1 in /usr/local/lib/python3.11/dist-packages (from markdown-it-py>=2.2.0->rich->keras>=3.5.0->tensorflow) (0.1.2)\n"
          ]
        }
      ],
      "source": [
        "pip install tensorflow\n"
      ]
    },
    {
      "cell_type": "code",
      "execution_count": null,
      "id": "bE6Cwuahzu6K",
      "metadata": {
        "colab": {
          "base_uri": "https://localhost:8080/"
        },
        "id": "bE6Cwuahzu6K",
        "outputId": "4100c870-2592-4e9a-ffd3-c994e8c10420"
      },
      "outputs": [
        {
          "name": "stdout",
          "output_type": "stream",
          "text": [
            "Requirement already satisfied: face_recognition in /usr/local/lib/python3.11/dist-packages (1.3.0)\n",
            "Requirement already satisfied: face-recognition-models>=0.3.0 in /usr/local/lib/python3.11/dist-packages (from face_recognition) (0.3.0)\n",
            "Requirement already satisfied: Click>=6.0 in /usr/local/lib/python3.11/dist-packages (from face_recognition) (8.2.0)\n",
            "Collecting dlib>=19.7 (from face_recognition)\n",
            "  Using cached dlib-19.24.9.tar.gz (3.4 MB)\n",
            "  Preparing metadata (setup.py) ... \u001b[?25l\u001b[?25hdone\n",
            "Requirement already satisfied: numpy in /usr/local/lib/python3.11/dist-packages (from face_recognition) (2.0.2)\n",
            "Requirement already satisfied: Pillow in /usr/local/lib/python3.11/dist-packages (from face_recognition) (11.2.1)\n",
            "Building wheels for collected packages: dlib\n",
            "  Building wheel for dlib (setup.py) ... \u001b[?25l\u001b[?25hdone\n",
            "  Created wheel for dlib: filename=dlib-19.24.9-cp311-cp311-linux_x86_64.whl size=4539740 sha256=569e612728c9ddf64073dffda6392e8c42b5ad9ebc64f949eebfa5c48eb872cf\n",
            "  Stored in directory: /root/.cache/pip/wheels/1e/01/c7/2aa7ccf47d6bf0cb20fc98c3817c1fabe8e5f2f8925b3498c9\n",
            "Successfully built dlib\n",
            "Installing collected packages: dlib\n",
            "Successfully installed dlib-19.24.9\n"
          ]
        },
        {
          "data": {
            "application/vnd.colab-display-data+json": {
              "id": "3e87a86d6dcb46d19f9d047f9210d583",
              "pip_warning": {
                "packages": [
                  "_dlib_pybind11"
                ]
              }
            }
          },
          "metadata": {},
          "output_type": "display_data"
        }
      ],
      "source": [
        "pip install face_recognition"
      ]
    },
    {
      "cell_type": "markdown",
      "id": "5200d642",
      "metadata": {
        "id": "5200d642"
      },
      "source": [
        "# Importation des librairies"
      ]
    },
    {
      "cell_type": "code",
      "execution_count": null,
      "id": "8bb5c799",
      "metadata": {
        "id": "8bb5c799"
      },
      "outputs": [],
      "source": [
        "import cv2\n",
        "import numpy as np\n",
        "\n",
        "import os"
      ]
    },
    {
      "cell_type": "code",
      "execution_count": null,
      "id": "39732547",
      "metadata": {
        "colab": {
          "background_save": true
        },
        "id": "39732547",
        "outputId": "f566d405-6e88-4ce4-999f-bd49a976fe19"
      },
      "outputs": [
        {
          "ename": "RuntimeError",
          "evalue": "Error while calling cudaGetDevice(&the_device_id) in file /tmp/.tmpAmKoPO/sdists-v9/pypi/dlib/19.24.6/JxDrwaAs6QBtviDChgF56/src/dlib/cuda/gpu_data.cpp:204. code: 35, reason: CUDA driver version is insufficient for CUDA runtime version",
          "output_type": "error",
          "traceback": [
            "\u001b[0;31m---------------------------------------------------------------------------\u001b[0m",
            "\u001b[0;31mRuntimeError\u001b[0m                              Traceback (most recent call last)",
            "\u001b[0;32m<ipython-input-28-ca17cc6b8bdb>\u001b[0m in \u001b[0;36m<cell line: 0>\u001b[0;34m()\u001b[0m\n\u001b[0;32m----> 1\u001b[0;31m \u001b[0;32mimport\u001b[0m \u001b[0mface_recognition\u001b[0m\u001b[0;34m\u001b[0m\u001b[0;34m\u001b[0m\u001b[0m\n\u001b[0m",
            "\u001b[0;32m/usr/local/lib/python3.11/dist-packages/face_recognition/__init__.py\u001b[0m in \u001b[0;36m<module>\u001b[0;34m\u001b[0m\n\u001b[1;32m      5\u001b[0m \u001b[0m__version__\u001b[0m \u001b[0;34m=\u001b[0m \u001b[0;34m'1.2.3'\u001b[0m\u001b[0;34m\u001b[0m\u001b[0;34m\u001b[0m\u001b[0m\n\u001b[1;32m      6\u001b[0m \u001b[0;34m\u001b[0m\u001b[0m\n\u001b[0;32m----> 7\u001b[0;31m \u001b[0;32mfrom\u001b[0m \u001b[0;34m.\u001b[0m\u001b[0mapi\u001b[0m \u001b[0;32mimport\u001b[0m \u001b[0mload_image_file\u001b[0m\u001b[0;34m,\u001b[0m \u001b[0mface_locations\u001b[0m\u001b[0;34m,\u001b[0m \u001b[0mbatch_face_locations\u001b[0m\u001b[0;34m,\u001b[0m \u001b[0mface_landmarks\u001b[0m\u001b[0;34m,\u001b[0m \u001b[0mface_encodings\u001b[0m\u001b[0;34m,\u001b[0m \u001b[0mcompare_faces\u001b[0m\u001b[0;34m,\u001b[0m \u001b[0mface_distance\u001b[0m\u001b[0;34m\u001b[0m\u001b[0;34m\u001b[0m\u001b[0m\n\u001b[0m",
            "\u001b[0;32m/usr/local/lib/python3.11/dist-packages/face_recognition/api.py\u001b[0m in \u001b[0;36m<module>\u001b[0;34m\u001b[0m\n\u001b[1;32m     24\u001b[0m \u001b[0;34m\u001b[0m\u001b[0m\n\u001b[1;32m     25\u001b[0m \u001b[0mcnn_face_detection_model\u001b[0m \u001b[0;34m=\u001b[0m \u001b[0mface_recognition_models\u001b[0m\u001b[0;34m.\u001b[0m\u001b[0mcnn_face_detector_model_location\u001b[0m\u001b[0;34m(\u001b[0m\u001b[0;34m)\u001b[0m\u001b[0;34m\u001b[0m\u001b[0;34m\u001b[0m\u001b[0m\n\u001b[0;32m---> 26\u001b[0;31m \u001b[0mcnn_face_detector\u001b[0m \u001b[0;34m=\u001b[0m \u001b[0mdlib\u001b[0m\u001b[0;34m.\u001b[0m\u001b[0mcnn_face_detection_model_v1\u001b[0m\u001b[0;34m(\u001b[0m\u001b[0mcnn_face_detection_model\u001b[0m\u001b[0;34m)\u001b[0m\u001b[0;34m\u001b[0m\u001b[0;34m\u001b[0m\u001b[0m\n\u001b[0m\u001b[1;32m     27\u001b[0m \u001b[0;34m\u001b[0m\u001b[0m\n\u001b[1;32m     28\u001b[0m \u001b[0mface_recognition_model\u001b[0m \u001b[0;34m=\u001b[0m \u001b[0mface_recognition_models\u001b[0m\u001b[0;34m.\u001b[0m\u001b[0mface_recognition_model_location\u001b[0m\u001b[0;34m(\u001b[0m\u001b[0;34m)\u001b[0m\u001b[0;34m\u001b[0m\u001b[0;34m\u001b[0m\u001b[0m\n",
            "\u001b[0;31mRuntimeError\u001b[0m: Error while calling cudaGetDevice(&the_device_id) in file /tmp/.tmpAmKoPO/sdists-v9/pypi/dlib/19.24.6/JxDrwaAs6QBtviDChgF56/src/dlib/cuda/gpu_data.cpp:204. code: 35, reason: CUDA driver version is insufficient for CUDA runtime version"
          ]
        }
      ],
      "source": [
        "import face_recognition"
      ]
    },
    {
      "cell_type": "code",
      "execution_count": null,
      "id": "091d8188",
      "metadata": {
        "colab": {
          "background_save": true
        },
        "id": "091d8188"
      },
      "outputs": [],
      "source": [
        "path = \"C:/Users/rjabj/Desktop/projects/au cour/Face recognition workshop/Projet FACE-RECOGNITION-APP/data\"\n",
        "images = []\n",
        "classNames = []\n",
        "personsList = os.listdir(path)\n",
        "for cl in personsList:\n",
        "    curPersonn = cv2.imread(f'{path}/{cl}')\n",
        "    images.append(curPersonn)\n",
        "    classNames.append(os.path.splitext(cl)[0])\n",
        "print(classNames)"
      ]
    },
    {
      "cell_type": "markdown",
      "id": "6b62811c",
      "metadata": {
        "id": "6b62811c"
      },
      "source": [
        "# Création d'encodages des visages"
      ]
    },
    {
      "cell_type": "code",
      "execution_count": null,
      "id": "085e31e7",
      "metadata": {
        "colab": {
          "background_save": true
        },
        "id": "085e31e7"
      },
      "outputs": [],
      "source": [
        "def findEncodeings(image):\n",
        "    encodeList = []\n",
        "    for img in images:\n",
        "        img = cv2.cvtColor(img, cv2.COLOR_BGR2RGB)\n",
        "        encode = face_recognition.face_encodings(img)[0]\n",
        "        encodeList.append(encode)\n",
        "    return encodeList\n"
      ]
    },
    {
      "cell_type": "code",
      "execution_count": null,
      "id": "a0e479d3",
      "metadata": {
        "colab": {
          "background_save": true
        },
        "id": "a0e479d3"
      },
      "outputs": [],
      "source": [
        "encodeListKnown = findEncodeings(images)\n",
        "print('Encoding Complete.')\n",
        "\n",
        "\n"
      ]
    },
    {
      "cell_type": "markdown",
      "id": "ef529099",
      "metadata": {
        "id": "ef529099"
      },
      "source": [
        "# Démarrer la webcam avec cv2"
      ]
    },
    {
      "cell_type": "code",
      "execution_count": null,
      "id": "a97f4391",
      "metadata": {
        "colab": {
          "background_save": true
        },
        "id": "a97f4391"
      },
      "outputs": [],
      "source": [
        "cap = cv2.VideoCapture(0)\n",
        "while True:\n",
        "    _, img = cap.read()\n",
        "    cv2.imshow('Face Recogntion', img)\n",
        "    cv2.waitKey(1)\n",
        "\n",
        "    if cv2.waitKey(1) & 0xFF == ord('q'):\n",
        "        break\n",
        "cap.release()\n",
        "cv2.destroyAllWindows()"
      ]
    },
    {
      "cell_type": "markdown",
      "id": "0555eb10",
      "metadata": {
        "id": "0555eb10"
      },
      "source": [
        "# Démarrer la webcam pour une reconnaissance en temps réel"
      ]
    },
    {
      "cell_type": "code",
      "execution_count": null,
      "id": "21fb389b",
      "metadata": {
        "colab": {
          "background_save": true
        },
        "id": "21fb389b"
      },
      "outputs": [],
      "source": [
        "cap = cv2.VideoCapture(0)\n",
        "while True:\n",
        "    _, img = cap.read()\n",
        "\n",
        "    imgS = cv2.resize(img, (0,0), None, 0.25, 0.25)\n",
        "    imgS = cv2.cvtColor(imgS, cv2.COLOR_BGR2RGB)\n",
        "\n",
        "    faceCurentFrame = face_recognition.face_locations(imgS)\n",
        "\n",
        "    encodeCurentFrame = face_recognition.face_encodings(imgS, faceCurentFrame)\n",
        "\n",
        "\n",
        "\n",
        "    for encodeface, faceLoc in zip(encodeCurentFrame, faceCurentFrame):\n",
        "        matches = face_recognition.compare_faces(encodeListKnown, encodeface)\n",
        "        faceDis = face_recognition.face_distance(encodeListKnown, encodeface)\n",
        "        #print (faceDis)\n",
        "        matchIndex = np.argmin(faceDis)\n",
        "\n",
        "\n",
        "        if matches[matchIndex]:\n",
        "            name = classNames[matchIndex].upper()\n",
        "            print(name)\n",
        "            y1, x2, y2, x1 = faceLoc\n",
        "            y1, x2, y2, x1 = y1*4, x2*4, y2*4, x1*4\n",
        "            cv2.rectangle(img, (x1, y1), (x2, y2), (0,0,255), 2)\n",
        "            cv2.rectangle(img, (x1,y2-35), (x2,y2), (0,0,255), cv2.FILLED)\n",
        "            cv2.putText(img, name, (x1+6, y2-6), cv2.FONT_HERSHEY_COMPLEX, 1, (255,255,255), 2)\n",
        "        else:\n",
        "            name = \"Unknown\"\n",
        "\n",
        "    cv2.imshow('Face Recogntion', img)\n",
        "    cv2.waitKey(1)"
      ]
    },
    {
      "cell_type": "markdown",
      "id": "418d1d15",
      "metadata": {
        "id": "418d1d15"
      },
      "source": [
        "# optionnel : Chargement d'encodages à partir du cache"
      ]
    },
    {
      "cell_type": "code",
      "execution_count": null,
      "id": "c43b7311",
      "metadata": {
        "colab": {
          "background_save": true
        },
        "id": "c43b7311"
      },
      "outputs": [],
      "source": [
        "import cv2\n",
        "import numpy as np\n",
        "import face_recognition\n",
        "import os\n",
        "import pickle\n",
        "\n",
        "# Paths\n",
        "data_path = r\"C:\\Users\\rjabj\\Desktop\\projects\\au cour\\Face recognition workshop\\Projet FACE-RECOGNITION-APP\\data\"\n",
        "encodings_file = 'encodings.pickle'\n",
        "\n",
        "# Load known faces & encodings\n",
        "def load_or_create_encodings(path, enc_file):\n",
        "    classNames = []\n",
        "    encodeList = []\n",
        "\n",
        "    if os.path.exists(enc_file):\n",
        "        print(\"Loading encodings from cache...\")\n",
        "        with open(enc_file, 'rb') as f:\n",
        "            encodeList, classNames = pickle.load(f)\n",
        "    else:\n",
        "        print(\"No cache found. Encoding images...\")\n",
        "        images = []\n",
        "        personsList = os.listdir(path)\n",
        "\n",
        "        for cl in personsList:\n",
        "            img_path = os.path.join(path, cl)\n",
        "            curImg = cv2.imread(img_path)\n",
        "            if curImg is not None:\n",
        "                images.append(curImg)\n",
        "                classNames.append(os.path.splitext(cl)[0])\n",
        "\n",
        "        for img in images:\n",
        "            img_rgb = cv2.cvtColor(img, cv2.COLOR_BGR2RGB)\n",
        "            encodings = face_recognition.face_encodings(img_rgb)\n",
        "            if encodings:\n",
        "                encodeList.append(encodings[0])\n",
        "\n",
        "        # Save to cache\n",
        "        with open(enc_file, 'wb') as f:\n",
        "            pickle.dump((encodeList, classNames), f)\n",
        "        print(\"Encodings saved to cache.\")\n",
        "\n",
        "    return encodeList, classNames\n",
        "\n",
        "# Load or compute encodings\n",
        "encodeListKnown, classNames = load_or_create_encodings(data_path, encodings_file)\n",
        "print(\"Encoding complete. Starting recognition...\")\n",
        "\n",
        "# Start webcam\n",
        "cap = cv2.VideoCapture(1)\n",
        "frame_count = 0\n",
        "process_every_n_frames = 5\n",
        "recognized_faces = []\n",
        "\n",
        "while True:\n",
        "    success, frame = cap.read()\n",
        "    if not success:\n",
        "        break\n",
        "\n",
        "    small_frame = cv2.resize(frame, (0, 0), fx=0.25, fy=0.25)\n",
        "    rgb_small_frame = cv2.cvtColor(small_frame, cv2.COLOR_BGR2RGB)\n",
        "\n",
        "    if frame_count % process_every_n_frames == 0:\n",
        "        face_locations = face_recognition.face_locations(rgb_small_frame)\n",
        "        face_encodings = face_recognition.face_encodings(rgb_small_frame, face_locations)\n",
        "\n",
        "        recognized_faces = []\n",
        "\n",
        "        for encodeFace, faceLoc in zip(face_encodings, face_locations):\n",
        "            matches = face_recognition.compare_faces(encodeListKnown, encodeFace)\n",
        "            faceDis = face_recognition.face_distance(encodeListKnown, encodeFace)\n",
        "\n",
        "            if faceDis.size > 0:\n",
        "                matchIndex = np.argmin(faceDis)\n",
        "                if matches[matchIndex]:\n",
        "                    name = classNames[matchIndex].upper()\n",
        "                else:\n",
        "                    name = \"Unknown\"\n",
        "                recognized_faces.append((name, faceLoc))\n",
        "\n",
        "    for name, faceLoc in recognized_faces:\n",
        "        y1, x2, y2, x1 = [val * 4 for val in faceLoc]\n",
        "        cv2.rectangle(frame, (x1, y1), (x2, y2), (0, 255, 0), 2)\n",
        "        cv2.rectangle(frame, (x1, y2 - 35), (x2, y2), (0, 255, 0), cv2.FILLED)\n",
        "        cv2.putText(frame, name, (x1 + 6, y2 - 6),\n",
        "                    cv2.FONT_HERSHEY_DUPLEX, 1, (255, 255, 255), 2)\n",
        "\n",
        "    cv2.imshow('Face Recognition (with Cache)', frame)\n",
        "    frame_count += 1\n",
        "\n",
        "    if cv2.waitKey(1) & 0xFF == ord('q'):\n",
        "        break\n",
        "\n",
        "cap.release()\n",
        "cv2.destroyAllWindows()\n"
      ]
    }
  ],
  "metadata": {
    "colab": {
      "provenance": [],
      "include_colab_link": true
    },
    "kernelspec": {
      "display_name": "Python 3 (ipykernel)",
      "language": "python",
      "name": "python3"
    },
    "language_info": {
      "codemirror_mode": {
        "name": "ipython",
        "version": 3
      },
      "file_extension": ".py",
      "mimetype": "text/x-python",
      "name": "python",
      "nbconvert_exporter": "python",
      "pygments_lexer": "ipython3",
      "version": "3.9.13"
    }
  },
  "nbformat": 4,
  "nbformat_minor": 5
}